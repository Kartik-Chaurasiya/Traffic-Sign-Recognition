{
 "cells": [
  {
   "cell_type": "code",
   "execution_count": 2,
   "id": "2962f613",
   "metadata": {},
   "outputs": [
    {
     "data": {
      "text/plain": [
       "[]"
      ]
     },
     "execution_count": 2,
     "metadata": {},
     "output_type": "execute_result"
    }
   ],
   "source": [
    "import tensorflow as tf\n",
    "tf.config.list_physical_devices('GPU')"
   ]
  },
  {
   "cell_type": "code",
   "execution_count": 3,
   "id": "94fb5353",
   "metadata": {},
   "outputs": [],
   "source": [
    "import numpy as np\n",
    "from ultralytics import YOLO"
   ]
  },
  {
   "cell_type": "markdown",
   "id": "708577bc",
   "metadata": {},
   "source": [
    "Download annotated data from overflow"
   ]
  },
  {
   "cell_type": "markdown",
   "id": "9ed43a24",
   "metadata": {
    "scrolled": true
   },
   "source": [
    "!pip install roboflow\n",
    "\n",
    "from roboflow import Roboflow\n",
    "rf = Roboflow(api_key=\"pPK83gRdEj2jGZHBZBwF\")\n",
    "project = rf.workspace(\"dmpro\").project(\"traffic-bamtw\")\n",
    "dataset = project.version(1).download(\"yolov8\")"
   ]
  },
  {
   "cell_type": "code",
   "execution_count": 4,
   "id": "4102e985",
   "metadata": {
    "scrolled": false
   },
   "outputs": [
    {
     "name": "stderr",
     "output_type": "stream",
     "text": [
      "New https://pypi.org/project/ultralytics/8.0.84 available  Update with 'pip install -U ultralytics'\n",
      "Ultralytics YOLOv8.0.82  Python-3.10.9 torch-2.0.0+cpu CPU\n",
      "\u001b[34m\u001b[1myolo\\engine\\trainer: \u001b[0mtask=detect, mode=train, model=yolov8n.pt, data=data.yaml, epochs=20, patience=50, batch=8, imgsz=456, save=True, save_period=-1, cache=False, device=None, workers=8, project=None, name=yolov8n_v8_10e, exist_ok=False, pretrained=False, optimizer=SGD, verbose=True, seed=0, deterministic=True, single_cls=False, image_weights=False, rect=False, cos_lr=False, close_mosaic=0, resume=False, amp=True, overlap_mask=True, mask_ratio=4, dropout=0.0, val=True, split=val, save_json=False, save_hybrid=False, conf=None, iou=0.7, max_det=300, half=False, dnn=False, plots=True, source=None, show=False, save_txt=False, save_conf=False, save_crop=False, show_labels=True, show_conf=True, vid_stride=1, line_thickness=3, visualize=False, augment=False, agnostic_nms=False, classes=None, retina_masks=False, boxes=True, format=torchscript, keras=False, optimize=False, int8=False, dynamic=False, simplify=False, opset=None, workspace=4, nms=False, lr0=0.01, lrf=0.01, momentum=0.937, weight_decay=0.0005, warmup_epochs=3.0, warmup_momentum=0.8, warmup_bias_lr=0.1, box=7.5, cls=0.5, dfl=1.5, pose=12.0, kobj=1.0, label_smoothing=0.0, nbs=64, hsv_h=0.015, hsv_s=0.7, hsv_v=0.4, degrees=0.0, translate=0.1, scale=0.5, shear=0.0, perspective=0.0, flipud=0.0, fliplr=0.5, mosaic=1.0, mixup=0.0, copy_paste=0.0, cfg=None, v5loader=False, tracker=botsort.yaml, save_dir=runs\\detect\\yolov8n_v8_10e7\n",
      "Overriding model.yaml nc=80 with nc=5\n",
      "\n",
      "                   from  n    params  module                                       arguments                     \n",
      "  0                  -1  1       464  ultralytics.nn.modules.Conv                  [3, 16, 3, 2]                 \n",
      "  1                  -1  1      4672  ultralytics.nn.modules.Conv                  [16, 32, 3, 2]                \n",
      "  2                  -1  1      7360  ultralytics.nn.modules.C2f                   [32, 32, 1, True]             \n",
      "  3                  -1  1     18560  ultralytics.nn.modules.Conv                  [32, 64, 3, 2]                \n",
      "  4                  -1  2     49664  ultralytics.nn.modules.C2f                   [64, 64, 2, True]             \n",
      "  5                  -1  1     73984  ultralytics.nn.modules.Conv                  [64, 128, 3, 2]               \n",
      "  6                  -1  2    197632  ultralytics.nn.modules.C2f                   [128, 128, 2, True]           \n",
      "  7                  -1  1    295424  ultralytics.nn.modules.Conv                  [128, 256, 3, 2]              \n",
      "  8                  -1  1    460288  ultralytics.nn.modules.C2f                   [256, 256, 1, True]           \n",
      "  9                  -1  1    164608  ultralytics.nn.modules.SPPF                  [256, 256, 5]                 \n",
      " 10                  -1  1         0  torch.nn.modules.upsampling.Upsample         [None, 2, 'nearest']          \n",
      " 11             [-1, 6]  1         0  ultralytics.nn.modules.Concat                [1]                           \n",
      " 12                  -1  1    148224  ultralytics.nn.modules.C2f                   [384, 128, 1]                 \n",
      " 13                  -1  1         0  torch.nn.modules.upsampling.Upsample         [None, 2, 'nearest']          \n",
      " 14             [-1, 4]  1         0  ultralytics.nn.modules.Concat                [1]                           \n",
      " 15                  -1  1     37248  ultralytics.nn.modules.C2f                   [192, 64, 1]                  \n",
      " 16                  -1  1     36992  ultralytics.nn.modules.Conv                  [64, 64, 3, 2]                \n",
      " 17            [-1, 12]  1         0  ultralytics.nn.modules.Concat                [1]                           \n",
      " 18                  -1  1    123648  ultralytics.nn.modules.C2f                   [192, 128, 1]                 \n",
      " 19                  -1  1    147712  ultralytics.nn.modules.Conv                  [128, 128, 3, 2]              \n",
      " 20             [-1, 9]  1         0  ultralytics.nn.modules.Concat                [1]                           \n",
      " 21                  -1  1    493056  ultralytics.nn.modules.C2f                   [384, 256, 1]                 \n",
      " 22        [15, 18, 21]  1    752287  ultralytics.nn.modules.Detect                [5, [64, 128, 256]]           \n",
      "Model summary: 225 layers, 3011823 parameters, 3011807 gradients, 8.2 GFLOPs\n",
      "\n",
      "Transferred 319/355 items from pretrained weights\n",
      "\u001b[34m\u001b[1mTensorBoard: \u001b[0mStart with 'tensorboard --logdir runs\\detect\\yolov8n_v8_10e7', view at http://localhost:6006/\n",
      "WARNING  imgsz=[456] must be multiple of max stride 32, updating to [480]\n",
      "\u001b[34m\u001b[1moptimizer:\u001b[0m SGD(lr=0.01) with parameter groups 57 weight(decay=0.0), 64 weight(decay=0.0005), 63 bias\n",
      "\u001b[34m\u001b[1mtrain: \u001b[0mScanning C:\\Users\\Kartik GSU\\Desktop\\DM_pro\\datasets\\train\\labels.cache... 410 images, 2 backgrounds, 0 corrupt:\u001b[0m\n",
      "\u001b[34m\u001b[1mval: \u001b[0mScanning C:\\Users\\Kartik GSU\\Desktop\\DM_pro\\datasets\\valid\\labels.cache... 46 images, 1 backgrounds, 0 corrupt: 10\u001b[0m\n",
      "Plotting labels to runs\\detect\\yolov8n_v8_10e7\\labels.jpg... \n",
      "Image sizes 480 train, 480 val\n",
      "Using 0 dataloader workers\n",
      "Logging results to \u001b[1mruns\\detect\\yolov8n_v8_10e7\u001b[0m\n",
      "Starting training for 20 epochs...\n",
      "\n",
      "      Epoch    GPU_mem   box_loss   cls_loss   dfl_loss  Instances       Size\n",
      "       1/20         0G     0.7122      2.866       1.19          4        480: 100%|██████████| 52/52 [02:38<00:00,  3.\n",
      "                 Class     Images  Instances      Box(P          R      mAP50  mAP50-95): 100%|██████████| 3/3 [00:07<0\n",
      "                   all         46         45    0.00305          1      0.288      0.246\n",
      "\n",
      "      Epoch    GPU_mem   box_loss   cls_loss   dfl_loss  Instances       Size\n",
      "       2/20         0G     0.7549      2.121      1.161          6        480: 100%|██████████| 52/52 [02:27<00:00,  2.\n",
      "                 Class     Images  Instances      Box(P          R      mAP50  mAP50-95): 100%|██████████| 3/3 [00:07<0\n",
      "                   all         46         45      0.368      0.587       0.49      0.413\n",
      "\n",
      "      Epoch    GPU_mem   box_loss   cls_loss   dfl_loss  Instances       Size\n",
      "       3/20         0G     0.7461       1.61      1.133          3        480: 100%|██████████| 52/52 [02:41<00:00,  3.\n",
      "                 Class     Images  Instances      Box(P          R      mAP50  mAP50-95): 100%|██████████| 3/3 [00:08<0\n",
      "                   all         46         45      0.723      0.599      0.886      0.669\n",
      "\n",
      "      Epoch    GPU_mem   box_loss   cls_loss   dfl_loss  Instances       Size\n",
      "       4/20         0G     0.7528      1.391      1.129          3        480: 100%|██████████| 52/52 [02:25<00:00,  2.\n",
      "                 Class     Images  Instances      Box(P          R      mAP50  mAP50-95): 100%|██████████| 3/3 [00:06<0\n",
      "                   all         46         45       0.72      0.967      0.937      0.824\n",
      "\n",
      "      Epoch    GPU_mem   box_loss   cls_loss   dfl_loss  Instances       Size\n",
      "       5/20         0G     0.7428      1.224      1.128          8        480: 100%|██████████| 52/52 [02:21<00:00,  2.\n",
      "                 Class     Images  Instances      Box(P          R      mAP50  mAP50-95): 100%|██████████| 3/3 [00:06<0\n",
      "                   all         46         45      0.927      0.876       0.98      0.862\n",
      "\n",
      "      Epoch    GPU_mem   box_loss   cls_loss   dfl_loss  Instances       Size\n",
      "       6/20         0G     0.7437      1.115      1.109          8        480: 100%|██████████| 52/52 [02:21<00:00,  2.\n",
      "                 Class     Images  Instances      Box(P          R      mAP50  mAP50-95): 100%|██████████| 3/3 [00:06<0\n",
      "                   all         46         45      0.925      0.992      0.978      0.847\n",
      "\n",
      "      Epoch    GPU_mem   box_loss   cls_loss   dfl_loss  Instances       Size\n",
      "       7/20         0G     0.7247      1.063      1.104          5        480: 100%|██████████| 52/52 [02:21<00:00,  2.\n",
      "                 Class     Images  Instances      Box(P          R      mAP50  mAP50-95): 100%|██████████| 3/3 [00:06<0\n",
      "                   all         46         45      0.935      0.948      0.993      0.889\n",
      "\n",
      "      Epoch    GPU_mem   box_loss   cls_loss   dfl_loss  Instances       Size\n"
     ]
    },
    {
     "name": "stderr",
     "output_type": "stream",
     "text": [
      "       8/20         0G      0.687     0.9938      1.094          3        480: 100%|██████████| 52/52 [02:24<00:00,  2.\n",
      "                 Class     Images  Instances      Box(P          R      mAP50  mAP50-95): 100%|██████████| 3/3 [00:09<0\n",
      "                   all         46         45      0.894      0.942      0.976      0.887\n",
      "\n",
      "      Epoch    GPU_mem   box_loss   cls_loss   dfl_loss  Instances       Size\n",
      "       9/20         0G     0.6768     0.9524      1.076          2        480: 100%|██████████| 52/52 [02:24<00:00,  2.\n",
      "                 Class     Images  Instances      Box(P          R      mAP50  mAP50-95): 100%|██████████| 3/3 [00:06<0\n",
      "                   all         46         45      0.958      0.955      0.968      0.882\n",
      "\n",
      "      Epoch    GPU_mem   box_loss   cls_loss   dfl_loss  Instances       Size\n",
      "      10/20         0G      0.703     0.9085      1.093          5        480: 100%|██████████| 52/52 [02:19<00:00,  2.\n",
      "                 Class     Images  Instances      Box(P          R      mAP50  mAP50-95): 100%|██████████| 3/3 [00:06<0\n",
      "                   all         46         45      0.947      0.994      0.989      0.885\n",
      "\n",
      "      Epoch    GPU_mem   box_loss   cls_loss   dfl_loss  Instances       Size\n",
      "      11/20         0G     0.6531     0.8432      1.053          4        480: 100%|██████████| 52/52 [02:28<00:00,  2.\n",
      "                 Class     Images  Instances      Box(P          R      mAP50  mAP50-95): 100%|██████████| 3/3 [00:06<0\n",
      "                   all         46         45       0.97      0.997      0.987      0.885\n",
      "\n",
      "      Epoch    GPU_mem   box_loss   cls_loss   dfl_loss  Instances       Size\n",
      "      12/20         0G      0.638     0.8109      1.059          5        480: 100%|██████████| 52/52 [02:27<00:00,  2.\n",
      "                 Class     Images  Instances      Box(P          R      mAP50  mAP50-95): 100%|██████████| 3/3 [00:07<0\n",
      "                   all         46         45      0.975          1      0.987      0.899\n",
      "\n",
      "      Epoch    GPU_mem   box_loss   cls_loss   dfl_loss  Instances       Size\n",
      "      13/20         0G      0.633      0.807       1.07          3        480: 100%|██████████| 52/52 [02:09<00:00,  2.\n",
      "                 Class     Images  Instances      Box(P          R      mAP50  mAP50-95): 100%|██████████| 3/3 [00:06<0\n",
      "                   all         46         45      0.968          1      0.992      0.889\n",
      "\n",
      "      Epoch    GPU_mem   box_loss   cls_loss   dfl_loss  Instances       Size\n",
      "      14/20         0G      0.604     0.7556      1.049          6        480: 100%|██████████| 52/52 [02:05<00:00,  2.\n",
      "                 Class     Images  Instances      Box(P          R      mAP50  mAP50-95): 100%|██████████| 3/3 [00:06<0\n",
      "                   all         46         45      0.965      0.995      0.991      0.901\n",
      "\n",
      "      Epoch    GPU_mem   box_loss   cls_loss   dfl_loss  Instances       Size\n",
      "      15/20         0G     0.5836     0.7509      1.041          5        480: 100%|██████████| 52/52 [02:05<00:00,  2.\n",
      "                 Class     Images  Instances      Box(P          R      mAP50  mAP50-95): 100%|██████████| 3/3 [00:06<0\n",
      "                   all         46         45      0.974          1      0.995       0.91\n",
      "\n",
      "      Epoch    GPU_mem   box_loss   cls_loss   dfl_loss  Instances       Size\n",
      "      16/20         0G      0.574       0.73      1.034          6        480: 100%|██████████| 52/52 [02:10<00:00,  2.\n",
      "                 Class     Images  Instances      Box(P          R      mAP50  mAP50-95): 100%|██████████| 3/3 [00:06<0\n",
      "                   all         46         45      0.979          1      0.991       0.89\n",
      "\n",
      "      Epoch    GPU_mem   box_loss   cls_loss   dfl_loss  Instances       Size\n",
      "      17/20         0G     0.5737     0.6994       1.04          7        480: 100%|██████████| 52/52 [02:11<00:00,  2.\n",
      "                 Class     Images  Instances      Box(P          R      mAP50  mAP50-95): 100%|██████████| 3/3 [00:06<0\n",
      "                   all         46         45      0.977          1      0.994      0.901\n",
      "\n",
      "      Epoch    GPU_mem   box_loss   cls_loss   dfl_loss  Instances       Size\n",
      "      18/20         0G     0.5542     0.6763      1.029          5        480: 100%|██████████| 52/52 [02:12<00:00,  2.\n",
      "                 Class     Images  Instances      Box(P          R      mAP50  mAP50-95): 100%|██████████| 3/3 [00:06<0\n",
      "                   all         46         45      0.978          1      0.994      0.911\n",
      "\n",
      "      Epoch    GPU_mem   box_loss   cls_loss   dfl_loss  Instances       Size\n",
      "      19/20         0G     0.5557     0.6561      1.032          5        480: 100%|██████████| 52/52 [02:09<00:00,  2.\n",
      "                 Class     Images  Instances      Box(P          R      mAP50  mAP50-95): 100%|██████████| 3/3 [00:06<0\n",
      "                   all         46         45       0.98          1      0.994       0.92\n",
      "\n",
      "      Epoch    GPU_mem   box_loss   cls_loss   dfl_loss  Instances       Size\n",
      "      20/20         0G     0.5152     0.6162      1.015          3        480: 100%|██████████| 52/52 [02:06<00:00,  2.\n",
      "                 Class     Images  Instances      Box(P          R      mAP50  mAP50-95): 100%|██████████| 3/3 [00:06<0\n",
      "                   all         46         45       0.98          1      0.994      0.924\n",
      "\n",
      "20 epochs completed in 0.816 hours.\n",
      "Optimizer stripped from runs\\detect\\yolov8n_v8_10e7\\weights\\last.pt, 6.2MB\n",
      "Optimizer stripped from runs\\detect\\yolov8n_v8_10e7\\weights\\best.pt, 6.2MB\n",
      "\n",
      "Validating runs\\detect\\yolov8n_v8_10e7\\weights\\best.pt...\n",
      "Ultralytics YOLOv8.0.82  Python-3.10.9 torch-2.0.0+cpu CPU\n",
      "Model summary (fused): 168 layers, 3006623 parameters, 0 gradients, 8.1 GFLOPs\n",
      "                 Class     Images  Instances      Box(P          R      mAP50  mAP50-95): 100%|██████████| 3/3 [00:05<0\n",
      "                   all         46         45       0.98          1      0.994      0.924\n",
      "              Crossing         46          6      0.984          1      0.995      0.945\n",
      "               No Horn         46          5      0.986          1      0.995      0.959\n",
      "    Not that Direction         46         12      0.992          1      0.995      0.899\n",
      "                 Right         46          4       0.99          1      0.995      0.929\n",
      "                 Speed         46         18      0.947          1      0.992      0.888\n",
      "Speed: 1.4ms preprocess, 99.3ms inference, 0.0ms loss, 2.9ms postprocess per image\n",
      "Results saved to \u001b[1mruns\\detect\\yolov8n_v8_10e7\u001b[0m\n"
     ]
    }
   ],
   "source": [
    "# Load the model.\n",
    "model = YOLO('yolov8n.pt')\n",
    " \n",
    "# Training.\n",
    "results = model.train(\n",
    "   data=\"data.yaml\",\n",
    "   imgsz=456,\n",
    "   epochs=20,\n",
    "   batch=8,\n",
    "   name='yolov8n_v8_10e'\n",
    ")"
   ]
  },
  {
   "cell_type": "markdown",
   "id": "b1b0e90d",
   "metadata": {},
   "source": [
    "Predict images"
   ]
  },
  {
   "cell_type": "code",
   "execution_count": 25,
   "id": "61afdba5",
   "metadata": {},
   "outputs": [
    {
     "name": "stderr",
     "output_type": "stream",
     "text": [
      "Ultralytics YOLOv8.0.82  Python-3.10.9 torch-2.0.0+cpu CPU\n",
      "Model summary (fused): 168 layers, 3006623 parameters, 0 gradients, 8.1 GFLOPs\n",
      "\n",
      "image 1/1 C:\\Users\\Kartik GSU\\Desktop\\DM_pro\\traffic-1\\train\\images\\000_0013_png.rf.1bdf30fc95a15e4d2c9c962177eb6b4f.jpg: 480x480 1 Speed, 128.0ms\n",
      "Speed: 0.0ms preprocess, 128.0ms inference, 0.0ms postprocess per image at shape (1, 3, 480, 480)\n",
      "Results saved to \u001b[1mruns\\detect\\predict\u001b[0m\n"
     ]
    }
   ],
   "source": [
    "!yolo task=detect mode=predict model=\"runs\\detect\\yolov8n_v8_10e7\\weights\\best.pt\" source=\"train/images/000_0013_png.rf.1bdf30fc95a15e4d2c9c962177eb6b4f.jpg\"\n",
    "\n",
    "#yolo task=detect mode=predict model=\"runs/train/exp/weights/best.pt\" source=\"test.mp4\" "
   ]
  },
  {
   "cell_type": "code",
   "execution_count": null,
   "id": "c5b7aaa6",
   "metadata": {},
   "outputs": [],
   "source": []
  }
 ],
 "metadata": {
  "kernelspec": {
   "display_name": "dm_pro",
   "language": "python",
   "name": "dm_pro"
  },
  "language_info": {
   "codemirror_mode": {
    "name": "ipython",
    "version": 3
   },
   "file_extension": ".py",
   "mimetype": "text/x-python",
   "name": "python",
   "nbconvert_exporter": "python",
   "pygments_lexer": "ipython3",
   "version": "3.10.9"
  }
 },
 "nbformat": 4,
 "nbformat_minor": 5
}
